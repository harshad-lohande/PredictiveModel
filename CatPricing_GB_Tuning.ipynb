{
 "cells": [
  {
   "cell_type": "code",
   "execution_count": 1,
   "metadata": {},
   "outputs": [],
   "source": [
    "# Import necessary libraries\n",
    "import numpy as np\n",
    "import pandas as pd\n",
    "import matplotlib.pyplot as plt\n",
    "import seaborn as sns\n",
    "from IPython.display import display\n",
    "from sklearn.model_selection import train_test_split\n",
    "from sklearn.model_selection import GridSearchCV\n",
    "from sklearn.model_selection import cross_val_score\n",
    "from sklearn.pipeline import Pipeline\n",
    "from sklearn.metrics import mean_squared_error\n",
    "from sklearn.metrics import r2_score\n",
    "from sklearn.model_selection import KFold\n",
    "from sklearn.preprocessing import Normalizer\n",
    "\n",
    "# ignore warnings\n",
    "import warnings; warnings.simplefilter('ignore')\n",
    "\n",
    "# Pretty display for notebook\n",
    "%matplotlib inline"
   ]
  },
  {
   "cell_type": "code",
   "execution_count": 2,
   "metadata": {},
   "outputs": [],
   "source": [
    "from sklearn.ensemble import GradientBoostingRegressor\n",
    "from sklearn.ensemble import AdaBoostRegressor"
   ]
  },
  {
   "cell_type": "code",
   "execution_count": 68,
   "metadata": {},
   "outputs": [
    {
     "name": "stdout",
     "output_type": "stream",
     "text": [
      "Pricing data has 81 data points with 10 features\n"
     ]
    }
   ],
   "source": [
    "# Load the data\n",
    "try:\n",
    "    data = pd.read_excel('Property Transaction Data More Samples.xlsx')\n",
    "    data.drop(['Company','Year'], axis=1, inplace=True)\n",
    "    print(\"Pricing data has {} data points with {} features\".format(*data.shape))\n",
    "except:\n",
    "    print(\"Data not loaded. Is the dataset missing?\")"
   ]
  },
  {
   "cell_type": "code",
   "execution_count": 69,
   "metadata": {},
   "outputs": [
    {
     "name": "stdout",
     "output_type": "stream",
     "text": [
      "X_Train size: (56, 9) \n",
      "X_Test: (25, 9) \n",
      "Y_Train: (56,), \n",
      "Y_Test: (25,)\n",
      "Seed: 12\n"
     ]
    }
   ],
   "source": [
    "seed = 12\n",
    "new_data = data.drop(['ROL'], axis=1)\n",
    "#log_data = np.log(new_data)\n",
    "x_train, x_test, y_train, y_test = train_test_split(new_data, data['ROL'].values.reshape(-1), \\\n",
    "                                                    test_size=0.3, random_state=seed)\n",
    "print('X_Train size: {} \\nX_Test: {} \\nY_Train: {}, \\nY_Test: {}'.\\\n",
    "      format(x_train.shape, x_test.shape, y_train.shape, y_test.shape))\n",
    "print('Seed: {}'.format(seed))"
   ]
  },
  {
   "cell_type": "code",
   "execution_count": 70,
   "metadata": {},
   "outputs": [],
   "source": [
    "# Setting test options\n",
    "num_folds = 10\n",
    "num_instances = len(x_train)\n",
    "scoring = 'r2'"
   ]
  },
  {
   "cell_type": "code",
   "execution_count": 71,
   "metadata": {},
   "outputs": [],
   "source": [
    "norm = Normalizer().fit(x_train)\n",
    "normalizedX = norm.transform(x_train)"
   ]
  },
  {
   "cell_type": "code",
   "execution_count": 23,
   "metadata": {},
   "outputs": [],
   "source": [
    "norm = Normalizer().fit(x_train)\n",
    "normalizedX = norm.transform(x_train)\n",
    "param_grid = dict(n_estimators=np.array([50,100,150,200,250,300,350,400]), \\\n",
    "                  loss=['ls','lad','huber'], \\\n",
    "                  max_depth=np.array([1,2,3,4,5,6,7,8,9,10]))\n",
    "model = GradientBoostingRegressor(random_state=seed)\n",
    "kfold = KFold(n_splits=num_folds, random_state=seed)\n",
    "grid = GridSearchCV(estimator=model, param_grid=param_grid, scoring=scoring, cv=kfold)\n",
    "grid_result = grid.fit(normalizedX, y_train)"
   ]
  },
  {
   "cell_type": "code",
   "execution_count": 19,
   "metadata": {},
   "outputs": [
    {
     "data": {
      "text/plain": [
       "{'loss': ['ls', 'lad', 'huber'],\n",
       " 'n_estimators': array([ 50, 100, 150, 200, 250, 300, 350, 400])}"
      ]
     },
     "execution_count": 19,
     "metadata": {},
     "output_type": "execute_result"
    }
   ],
   "source": [
    "param_grid"
   ]
  },
  {
   "cell_type": "code",
   "execution_count": 7,
   "metadata": {},
   "outputs": [
    {
     "data": {
      "text/plain": [
       "GridSearchCV(cv=KFold(n_splits=10, random_state=7, shuffle=False),\n",
       "       error_score='raise',\n",
       "       estimator=GradientBoostingRegressor(alpha=0.9, criterion='friedman_mse', init=None,\n",
       "             learning_rate=0.1, loss='ls', max_depth=3, max_features=None,\n",
       "             max_leaf_nodes=None, min_impurity_decrease=0.0,\n",
       "             min_impurity_split=None, min_samples_leaf=1,\n",
       "             min_samples_split=2, min_weight_fraction_leaf=0.0,\n",
       "             n_estimators=100, presort='auto', random_state=7,\n",
       "             subsample=1.0, verbose=0, warm_start=False),\n",
       "       fit_params=None, iid=True, n_jobs=1,\n",
       "       param_grid={'n_estimators': array([ 50, 100, 150, 200, 250, 300, 350, 400])},\n",
       "       pre_dispatch='2*n_jobs', refit=True, return_train_score='warn',\n",
       "       scoring='r2', verbose=0)"
      ]
     },
     "execution_count": 7,
     "metadata": {},
     "output_type": "execute_result"
    }
   ],
   "source": [
    "grid_result"
   ]
  },
  {
   "cell_type": "code",
   "execution_count": 20,
   "metadata": {},
   "outputs": [
    {
     "data": {
      "text/plain": [
       "[mean: 0.90828, std: 0.09852, params: {'loss': 'ls', 'n_estimators': 50},\n",
       " mean: 0.91153, std: 0.09660, params: {'loss': 'ls', 'n_estimators': 100},\n",
       " mean: 0.91162, std: 0.09643, params: {'loss': 'ls', 'n_estimators': 150},\n",
       " mean: 0.91161, std: 0.09643, params: {'loss': 'ls', 'n_estimators': 200},\n",
       " mean: 0.91161, std: 0.09643, params: {'loss': 'ls', 'n_estimators': 250},\n",
       " mean: 0.91161, std: 0.09643, params: {'loss': 'ls', 'n_estimators': 300},\n",
       " mean: 0.91161, std: 0.09643, params: {'loss': 'ls', 'n_estimators': 350},\n",
       " mean: 0.91161, std: 0.09643, params: {'loss': 'ls', 'n_estimators': 400},\n",
       " mean: 0.87603, std: 0.12709, params: {'loss': 'lad', 'n_estimators': 50},\n",
       " mean: 0.89702, std: 0.11049, params: {'loss': 'lad', 'n_estimators': 100},\n",
       " mean: 0.89928, std: 0.10840, params: {'loss': 'lad', 'n_estimators': 150},\n",
       " mean: 0.90047, std: 0.10946, params: {'loss': 'lad', 'n_estimators': 200},\n",
       " mean: 0.90103, std: 0.10935, params: {'loss': 'lad', 'n_estimators': 250},\n",
       " mean: 0.90136, std: 0.10937, params: {'loss': 'lad', 'n_estimators': 300},\n",
       " mean: 0.90190, std: 0.10945, params: {'loss': 'lad', 'n_estimators': 350},\n",
       " mean: 0.90213, std: 0.10941, params: {'loss': 'lad', 'n_estimators': 400},\n",
       " mean: 0.91951, std: 0.09242, params: {'loss': 'huber', 'n_estimators': 50},\n",
       " mean: 0.92653, std: 0.09174, params: {'loss': 'huber', 'n_estimators': 100},\n",
       " mean: 0.92679, std: 0.09167, params: {'loss': 'huber', 'n_estimators': 150},\n",
       " mean: 0.92679, std: 0.09167, params: {'loss': 'huber', 'n_estimators': 200},\n",
       " mean: 0.92679, std: 0.09167, params: {'loss': 'huber', 'n_estimators': 250},\n",
       " mean: 0.92679, std: 0.09167, params: {'loss': 'huber', 'n_estimators': 300},\n",
       " mean: 0.92679, std: 0.09167, params: {'loss': 'huber', 'n_estimators': 350},\n",
       " mean: 0.92679, std: 0.09167, params: {'loss': 'huber', 'n_estimators': 400}]"
      ]
     },
     "execution_count": 20,
     "metadata": {},
     "output_type": "execute_result"
    }
   ],
   "source": [
    "grid_result.grid_scores_"
   ]
  },
  {
   "cell_type": "code",
   "execution_count": 24,
   "metadata": {},
   "outputs": [
    {
     "name": "stdout",
     "output_type": "stream",
     "text": [
      "Best score: 0.9363761595995699 using {'loss': 'huber', 'max_depth': 2, 'n_estimators': 400}\n",
      "Score(mean): 0.8111339362432173 (Std. dev: 0.13673988162985484) with: {'loss': 'ls', 'max_depth': 1, 'n_estimators': 50}\n",
      "Score(mean): 0.8526322843448082 (Std. dev: 0.1280969583197328) with: {'loss': 'ls', 'max_depth': 1, 'n_estimators': 100}\n",
      "Score(mean): 0.8685478382890626 (Std. dev: 0.1234634269027368) with: {'loss': 'ls', 'max_depth': 1, 'n_estimators': 150}\n",
      "Score(mean): 0.8752618006214629 (Std. dev: 0.12240637152718882) with: {'loss': 'ls', 'max_depth': 1, 'n_estimators': 200}\n",
      "Score(mean): 0.878971917263015 (Std. dev: 0.12168252217714906) with: {'loss': 'ls', 'max_depth': 1, 'n_estimators': 250}\n",
      "Score(mean): 0.8813516434138948 (Std. dev: 0.12148168079602482) with: {'loss': 'ls', 'max_depth': 1, 'n_estimators': 300}\n",
      "Score(mean): 0.883250843486276 (Std. dev: 0.12082429224736368) with: {'loss': 'ls', 'max_depth': 1, 'n_estimators': 350}\n",
      "Score(mean): 0.8845190223671748 (Std. dev: 0.12058980717756111) with: {'loss': 'ls', 'max_depth': 1, 'n_estimators': 400}\n",
      "Score(mean): 0.8784145415672814 (Std. dev: 0.10745146813582226) with: {'loss': 'ls', 'max_depth': 2, 'n_estimators': 50}\n",
      "Score(mean): 0.8937903675713473 (Std. dev: 0.10509733513295161) with: {'loss': 'ls', 'max_depth': 2, 'n_estimators': 100}\n",
      "Score(mean): 0.8963294394691932 (Std. dev: 0.10472081632430918) with: {'loss': 'ls', 'max_depth': 2, 'n_estimators': 150}\n",
      "Score(mean): 0.897103344068434 (Std. dev: 0.10464321124486681) with: {'loss': 'ls', 'max_depth': 2, 'n_estimators': 200}\n",
      "Score(mean): 0.8975942126693669 (Std. dev: 0.10458936553152198) with: {'loss': 'ls', 'max_depth': 2, 'n_estimators': 250}\n",
      "Score(mean): 0.8977803951973703 (Std. dev: 0.10460170913872645) with: {'loss': 'ls', 'max_depth': 2, 'n_estimators': 300}\n",
      "Score(mean): 0.8977854558955451 (Std. dev: 0.10460397954663811) with: {'loss': 'ls', 'max_depth': 2, 'n_estimators': 350}\n",
      "Score(mean): 0.8977854558955451 (Std. dev: 0.10460397954663811) with: {'loss': 'ls', 'max_depth': 2, 'n_estimators': 400}\n",
      "Score(mean): 0.9067219282854377 (Std. dev: 0.09852263431715802) with: {'loss': 'ls', 'max_depth': 3, 'n_estimators': 50}\n",
      "Score(mean): 0.9099740718942563 (Std. dev: 0.09659563450300201) with: {'loss': 'ls', 'max_depth': 3, 'n_estimators': 100}\n",
      "Score(mean): 0.9100642511170637 (Std. dev: 0.09642644283420719) with: {'loss': 'ls', 'max_depth': 3, 'n_estimators': 150}\n",
      "Score(mean): 0.9100600766784914 (Std. dev: 0.09642500644611254) with: {'loss': 'ls', 'max_depth': 3, 'n_estimators': 200}\n",
      "Score(mean): 0.9100600766784914 (Std. dev: 0.09642500644611254) with: {'loss': 'ls', 'max_depth': 3, 'n_estimators': 250}\n",
      "Score(mean): 0.9100600766784914 (Std. dev: 0.09642500644611254) with: {'loss': 'ls', 'max_depth': 3, 'n_estimators': 300}\n",
      "Score(mean): 0.9100600766784914 (Std. dev: 0.09642500644611254) with: {'loss': 'ls', 'max_depth': 3, 'n_estimators': 350}\n",
      "Score(mean): 0.9100600766784914 (Std. dev: 0.09642500644611254) with: {'loss': 'ls', 'max_depth': 3, 'n_estimators': 400}\n",
      "Score(mean): 0.9043483381989983 (Std. dev: 0.08999288954106435) with: {'loss': 'ls', 'max_depth': 4, 'n_estimators': 50}\n",
      "Score(mean): 0.904755809394328 (Std. dev: 0.08957326693090366) with: {'loss': 'ls', 'max_depth': 4, 'n_estimators': 100}\n",
      "Score(mean): 0.904755809394328 (Std. dev: 0.08957326693090366) with: {'loss': 'ls', 'max_depth': 4, 'n_estimators': 150}\n",
      "Score(mean): 0.904755809394328 (Std. dev: 0.08957326693090366) with: {'loss': 'ls', 'max_depth': 4, 'n_estimators': 200}\n",
      "Score(mean): 0.904755809394328 (Std. dev: 0.08957326693090366) with: {'loss': 'ls', 'max_depth': 4, 'n_estimators': 250}\n",
      "Score(mean): 0.904755809394328 (Std. dev: 0.08957326693090366) with: {'loss': 'ls', 'max_depth': 4, 'n_estimators': 300}\n",
      "Score(mean): 0.904755809394328 (Std. dev: 0.08957326693090366) with: {'loss': 'ls', 'max_depth': 4, 'n_estimators': 350}\n",
      "Score(mean): 0.904755809394328 (Std. dev: 0.08957326693090366) with: {'loss': 'ls', 'max_depth': 4, 'n_estimators': 400}\n",
      "Score(mean): 0.7870561275117798 (Std. dev: 0.181247908832682) with: {'loss': 'ls', 'max_depth': 5, 'n_estimators': 50}\n",
      "Score(mean): 0.786234405101961 (Std. dev: 0.18283993659743844) with: {'loss': 'ls', 'max_depth': 5, 'n_estimators': 100}\n",
      "Score(mean): 0.786234405101961 (Std. dev: 0.18283993659743844) with: {'loss': 'ls', 'max_depth': 5, 'n_estimators': 150}\n",
      "Score(mean): 0.786234405101961 (Std. dev: 0.18283993659743844) with: {'loss': 'ls', 'max_depth': 5, 'n_estimators': 200}\n",
      "Score(mean): 0.786234405101961 (Std. dev: 0.18283993659743844) with: {'loss': 'ls', 'max_depth': 5, 'n_estimators': 250}\n",
      "Score(mean): 0.786234405101961 (Std. dev: 0.18283993659743844) with: {'loss': 'ls', 'max_depth': 5, 'n_estimators': 300}\n",
      "Score(mean): 0.786234405101961 (Std. dev: 0.18283993659743844) with: {'loss': 'ls', 'max_depth': 5, 'n_estimators': 350}\n",
      "Score(mean): 0.786234405101961 (Std. dev: 0.18283993659743844) with: {'loss': 'ls', 'max_depth': 5, 'n_estimators': 400}\n",
      "Score(mean): 0.7536456322829851 (Std. dev: 0.21533373091542857) with: {'loss': 'ls', 'max_depth': 6, 'n_estimators': 50}\n",
      "Score(mean): 0.7529047646387447 (Std. dev: 0.2168045107185131) with: {'loss': 'ls', 'max_depth': 6, 'n_estimators': 100}\n",
      "Score(mean): 0.7529047646387447 (Std. dev: 0.2168045107185131) with: {'loss': 'ls', 'max_depth': 6, 'n_estimators': 150}\n",
      "Score(mean): 0.7529047646387447 (Std. dev: 0.2168045107185131) with: {'loss': 'ls', 'max_depth': 6, 'n_estimators': 200}\n",
      "Score(mean): 0.7529047646387447 (Std. dev: 0.2168045107185131) with: {'loss': 'ls', 'max_depth': 6, 'n_estimators': 250}\n",
      "Score(mean): 0.7529047646387447 (Std. dev: 0.2168045107185131) with: {'loss': 'ls', 'max_depth': 6, 'n_estimators': 300}\n",
      "Score(mean): 0.7529047646387447 (Std. dev: 0.2168045107185131) with: {'loss': 'ls', 'max_depth': 6, 'n_estimators': 350}\n",
      "Score(mean): 0.7529047646387447 (Std. dev: 0.2168045107185131) with: {'loss': 'ls', 'max_depth': 6, 'n_estimators': 400}\n",
      "Score(mean): 0.7357232701508469 (Std. dev: 0.2422895256754482) with: {'loss': 'ls', 'max_depth': 7, 'n_estimators': 50}\n",
      "Score(mean): 0.7351375406248815 (Std. dev: 0.2437548210127676) with: {'loss': 'ls', 'max_depth': 7, 'n_estimators': 100}\n",
      "Score(mean): 0.7351375406248815 (Std. dev: 0.2437548210127676) with: {'loss': 'ls', 'max_depth': 7, 'n_estimators': 150}\n",
      "Score(mean): 0.7351375406248815 (Std. dev: 0.2437548210127676) with: {'loss': 'ls', 'max_depth': 7, 'n_estimators': 200}\n",
      "Score(mean): 0.7351375406248815 (Std. dev: 0.2437548210127676) with: {'loss': 'ls', 'max_depth': 7, 'n_estimators': 250}\n",
      "Score(mean): 0.7351375406248815 (Std. dev: 0.2437548210127676) with: {'loss': 'ls', 'max_depth': 7, 'n_estimators': 300}\n",
      "Score(mean): 0.7351375406248815 (Std. dev: 0.2437548210127676) with: {'loss': 'ls', 'max_depth': 7, 'n_estimators': 350}\n",
      "Score(mean): 0.7351375406248815 (Std. dev: 0.2437548210127676) with: {'loss': 'ls', 'max_depth': 7, 'n_estimators': 400}\n",
      "Score(mean): 0.7510487537240823 (Std. dev: 0.21566274181063128) with: {'loss': 'ls', 'max_depth': 8, 'n_estimators': 50}\n",
      "Score(mean): 0.7505034334767733 (Std. dev: 0.2167946386109832) with: {'loss': 'ls', 'max_depth': 8, 'n_estimators': 100}\n",
      "Score(mean): 0.7505034334767733 (Std. dev: 0.2167946386109832) with: {'loss': 'ls', 'max_depth': 8, 'n_estimators': 150}\n",
      "Score(mean): 0.7505034334767733 (Std. dev: 0.2167946386109832) with: {'loss': 'ls', 'max_depth': 8, 'n_estimators': 200}\n",
      "Score(mean): 0.7505034334767733 (Std. dev: 0.2167946386109832) with: {'loss': 'ls', 'max_depth': 8, 'n_estimators': 250}\n",
      "Score(mean): 0.7505034334767733 (Std. dev: 0.2167946386109832) with: {'loss': 'ls', 'max_depth': 8, 'n_estimators': 300}\n",
      "Score(mean): 0.7505034334767733 (Std. dev: 0.2167946386109832) with: {'loss': 'ls', 'max_depth': 8, 'n_estimators': 350}\n",
      "Score(mean): 0.7505034334767733 (Std. dev: 0.2167946386109832) with: {'loss': 'ls', 'max_depth': 8, 'n_estimators': 400}\n",
      "Score(mean): 0.7349631059149031 (Std. dev: 0.24265695366059153) with: {'loss': 'ls', 'max_depth': 9, 'n_estimators': 50}\n",
      "Score(mean): 0.7344000978993096 (Std. dev: 0.2440157786610957) with: {'loss': 'ls', 'max_depth': 9, 'n_estimators': 100}\n",
      "Score(mean): 0.7344000978993096 (Std. dev: 0.2440157786610957) with: {'loss': 'ls', 'max_depth': 9, 'n_estimators': 150}\n",
      "Score(mean): 0.7344000978993096 (Std. dev: 0.2440157786610957) with: {'loss': 'ls', 'max_depth': 9, 'n_estimators': 200}\n",
      "Score(mean): 0.7344000978993096 (Std. dev: 0.2440157786610957) with: {'loss': 'ls', 'max_depth': 9, 'n_estimators': 250}\n",
      "Score(mean): 0.7344000978993096 (Std. dev: 0.2440157786610957) with: {'loss': 'ls', 'max_depth': 9, 'n_estimators': 300}\n",
      "Score(mean): 0.7344000978993096 (Std. dev: 0.2440157786610957) with: {'loss': 'ls', 'max_depth': 9, 'n_estimators': 350}\n",
      "Score(mean): 0.7344000978993096 (Std. dev: 0.2440157786610957) with: {'loss': 'ls', 'max_depth': 9, 'n_estimators': 400}\n",
      "Score(mean): 0.7415899934531043 (Std. dev: 0.21733000300416108) with: {'loss': 'ls', 'max_depth': 10, 'n_estimators': 50}\n",
      "Score(mean): 0.7411409050167387 (Std. dev: 0.21851668680629388) with: {'loss': 'ls', 'max_depth': 10, 'n_estimators': 100}\n",
      "Score(mean): 0.7411409050167387 (Std. dev: 0.21851668680629388) with: {'loss': 'ls', 'max_depth': 10, 'n_estimators': 150}\n",
      "Score(mean): 0.7411409050167387 (Std. dev: 0.21851668680629388) with: {'loss': 'ls', 'max_depth': 10, 'n_estimators': 200}\n",
      "Score(mean): 0.7411409050167387 (Std. dev: 0.21851668680629388) with: {'loss': 'ls', 'max_depth': 10, 'n_estimators': 250}\n",
      "Score(mean): 0.7411409050167387 (Std. dev: 0.21851668680629388) with: {'loss': 'ls', 'max_depth': 10, 'n_estimators': 300}\n",
      "Score(mean): 0.7411409050167387 (Std. dev: 0.21851668680629388) with: {'loss': 'ls', 'max_depth': 10, 'n_estimators': 350}\n",
      "Score(mean): 0.7411409050167387 (Std. dev: 0.21851668680629388) with: {'loss': 'ls', 'max_depth': 10, 'n_estimators': 400}\n",
      "Score(mean): 0.7116047709405343 (Std. dev: 0.24032706701280293) with: {'loss': 'lad', 'max_depth': 1, 'n_estimators': 50}\n",
      "Score(mean): 0.7389000121178388 (Std. dev: 0.21184556564748583) with: {'loss': 'lad', 'max_depth': 1, 'n_estimators': 100}\n",
      "Score(mean): 0.7525550969235917 (Std. dev: 0.21324145821031468) with: {'loss': 'lad', 'max_depth': 1, 'n_estimators': 150}\n",
      "Score(mean): 0.7572160213049011 (Std. dev: 0.21571761065385894) with: {'loss': 'lad', 'max_depth': 1, 'n_estimators': 200}\n",
      "Score(mean): 0.7589844048463095 (Std. dev: 0.2161737319632711) with: {'loss': 'lad', 'max_depth': 1, 'n_estimators': 250}\n",
      "Score(mean): 0.7591931674081399 (Std. dev: 0.21623379238278181) with: {'loss': 'lad', 'max_depth': 1, 'n_estimators': 300}\n",
      "Score(mean): 0.7599067882187635 (Std. dev: 0.2164622346639834) with: {'loss': 'lad', 'max_depth': 1, 'n_estimators': 350}\n",
      "Score(mean): 0.7599052815603338 (Std. dev: 0.21646638114476813) with: {'loss': 'lad', 'max_depth': 1, 'n_estimators': 400}\n",
      "Score(mean): 0.8025546349138523 (Std. dev: 0.13479805535077097) with: {'loss': 'lad', 'max_depth': 2, 'n_estimators': 50}\n",
      "Score(mean): 0.8476990927420867 (Std. dev: 0.10913505997664956) with: {'loss': 'lad', 'max_depth': 2, 'n_estimators': 100}\n",
      "Score(mean): 0.8683138482486269 (Std. dev: 0.10750650070764868) with: {'loss': 'lad', 'max_depth': 2, 'n_estimators': 150}\n",
      "Score(mean): 0.8720744600368755 (Std. dev: 0.10818832888662543) with: {'loss': 'lad', 'max_depth': 2, 'n_estimators': 200}\n",
      "Score(mean): 0.8729245450776757 (Std. dev: 0.10822206477139895) with: {'loss': 'lad', 'max_depth': 2, 'n_estimators': 250}\n",
      "Score(mean): 0.872956698966721 (Std. dev: 0.10823335351942198) with: {'loss': 'lad', 'max_depth': 2, 'n_estimators': 300}\n",
      "Score(mean): 0.8728058941474414 (Std. dev: 0.10825922512324149) with: {'loss': 'lad', 'max_depth': 2, 'n_estimators': 350}\n",
      "Score(mean): 0.8728617777317573 (Std. dev: 0.1083164158601706) with: {'loss': 'lad', 'max_depth': 2, 'n_estimators': 400}\n",
      "Score(mean): 0.8724582644548746 (Std. dev: 0.1270888986765582) with: {'loss': 'lad', 'max_depth': 3, 'n_estimators': 50}\n",
      "Score(mean): 0.8944908854226563 (Std. dev: 0.11048894182596704) with: {'loss': 'lad', 'max_depth': 3, 'n_estimators': 100}\n",
      "Score(mean): 0.8969017102570997 (Std. dev: 0.10839642869704369) with: {'loss': 'lad', 'max_depth': 3, 'n_estimators': 150}\n",
      "Score(mean): 0.8981465789211786 (Std. dev: 0.10945715424808043) with: {'loss': 'lad', 'max_depth': 3, 'n_estimators': 200}\n",
      "Score(mean): 0.8987202734525426 (Std. dev: 0.10934699321325914) with: {'loss': 'lad', 'max_depth': 3, 'n_estimators': 250}\n",
      "Score(mean): 0.8990666591274519 (Std. dev: 0.10937302002661008) with: {'loss': 'lad', 'max_depth': 3, 'n_estimators': 300}\n",
      "Score(mean): 0.8996447100057269 (Std. dev: 0.10945182483677397) with: {'loss': 'lad', 'max_depth': 3, 'n_estimators': 350}\n",
      "Score(mean): 0.8998749566103861 (Std. dev: 0.10941089005821483) with: {'loss': 'lad', 'max_depth': 3, 'n_estimators': 400}\n",
      "Score(mean): 0.8606175625277146 (Std. dev: 0.11666436753574122) with: {'loss': 'lad', 'max_depth': 4, 'n_estimators': 50}\n",
      "Score(mean): 0.8819534712671352 (Std. dev: 0.10722216899076403) with: {'loss': 'lad', 'max_depth': 4, 'n_estimators': 100}\n",
      "Score(mean): 0.8951148900572037 (Std. dev: 0.10041986738646683) with: {'loss': 'lad', 'max_depth': 4, 'n_estimators': 150}\n",
      "Score(mean): 0.8972873914253834 (Std. dev: 0.09907113437367271) with: {'loss': 'lad', 'max_depth': 4, 'n_estimators': 200}\n",
      "Score(mean): 0.8974781721243476 (Std. dev: 0.09894491289443468) with: {'loss': 'lad', 'max_depth': 4, 'n_estimators': 250}\n",
      "Score(mean): 0.901102749425083 (Std. dev: 0.10045137733474736) with: {'loss': 'lad', 'max_depth': 4, 'n_estimators': 300}\n",
      "Score(mean): 0.9018535088521364 (Std. dev: 0.1004787118054928) with: {'loss': 'lad', 'max_depth': 4, 'n_estimators': 350}\n",
      "Score(mean): 0.9027725182809903 (Std. dev: 0.10033989504021788) with: {'loss': 'lad', 'max_depth': 4, 'n_estimators': 400}\n",
      "Score(mean): 0.8691721607310414 (Std. dev: 0.1262921512581204) with: {'loss': 'lad', 'max_depth': 5, 'n_estimators': 50}\n",
      "Score(mean): 0.8978474177446089 (Std. dev: 0.11868842297354913) with: {'loss': 'lad', 'max_depth': 5, 'n_estimators': 100}\n",
      "Score(mean): 0.9029519518911346 (Std. dev: 0.1191695718427587) with: {'loss': 'lad', 'max_depth': 5, 'n_estimators': 150}\n",
      "Score(mean): 0.9047293259222785 (Std. dev: 0.11971384374800262) with: {'loss': 'lad', 'max_depth': 5, 'n_estimators': 200}\n",
      "Score(mean): 0.9059868603259267 (Std. dev: 0.1198791022633577) with: {'loss': 'lad', 'max_depth': 5, 'n_estimators': 250}\n",
      "Score(mean): 0.9075266834744152 (Std. dev: 0.12034942964547318) with: {'loss': 'lad', 'max_depth': 5, 'n_estimators': 300}\n",
      "Score(mean): 0.9082084502527753 (Std. dev: 0.12068902484060187) with: {'loss': 'lad', 'max_depth': 5, 'n_estimators': 350}\n",
      "Score(mean): 0.90864900918153 (Std. dev: 0.1209512863164409) with: {'loss': 'lad', 'max_depth': 5, 'n_estimators': 400}\n",
      "Score(mean): 0.8878703673243271 (Std. dev: 0.11419714281408375) with: {'loss': 'lad', 'max_depth': 6, 'n_estimators': 50}\n",
      "Score(mean): 0.8999850094584001 (Std. dev: 0.1131323775529571) with: {'loss': 'lad', 'max_depth': 6, 'n_estimators': 100}\n",
      "Score(mean): 0.9016146634564484 (Std. dev: 0.11339698766164874) with: {'loss': 'lad', 'max_depth': 6, 'n_estimators': 150}\n",
      "Score(mean): 0.9021434664815067 (Std. dev: 0.11378297773338863) with: {'loss': 'lad', 'max_depth': 6, 'n_estimators': 200}\n",
      "Score(mean): 0.9023529497305021 (Std. dev: 0.11394996953971084) with: {'loss': 'lad', 'max_depth': 6, 'n_estimators': 250}\n",
      "Score(mean): 0.9024750691439282 (Std. dev: 0.1139995773904367) with: {'loss': 'lad', 'max_depth': 6, 'n_estimators': 300}\n",
      "Score(mean): 0.9026058045122921 (Std. dev: 0.11390673618813908) with: {'loss': 'lad', 'max_depth': 6, 'n_estimators': 350}\n",
      "Score(mean): 0.9026014613618131 (Std. dev: 0.11390385863910729) with: {'loss': 'lad', 'max_depth': 6, 'n_estimators': 400}\n",
      "Score(mean): 0.8760617515492346 (Std. dev: 0.11980203715110313) with: {'loss': 'lad', 'max_depth': 7, 'n_estimators': 50}\n",
      "Score(mean): 0.8886336097826781 (Std. dev: 0.1130583289173161) with: {'loss': 'lad', 'max_depth': 7, 'n_estimators': 100}\n",
      "Score(mean): 0.8901123137633254 (Std. dev: 0.11282719623521871) with: {'loss': 'lad', 'max_depth': 7, 'n_estimators': 150}\n",
      "Score(mean): 0.8902857593745701 (Std. dev: 0.11216556255390392) with: {'loss': 'lad', 'max_depth': 7, 'n_estimators': 200}\n",
      "Score(mean): 0.8908947724663084 (Std. dev: 0.1120033731405947) with: {'loss': 'lad', 'max_depth': 7, 'n_estimators': 250}\n",
      "Score(mean): 0.8918140835476359 (Std. dev: 0.11219674548361978) with: {'loss': 'lad', 'max_depth': 7, 'n_estimators': 300}\n",
      "Score(mean): 0.8921432471308632 (Std. dev: 0.11227071406913848) with: {'loss': 'lad', 'max_depth': 7, 'n_estimators': 350}\n",
      "Score(mean): 0.8933361754018628 (Std. dev: 0.11223278756686966) with: {'loss': 'lad', 'max_depth': 7, 'n_estimators': 400}\n",
      "Score(mean): 0.8801829109425116 (Std. dev: 0.12325260722039061) with: {'loss': 'lad', 'max_depth': 8, 'n_estimators': 50}\n",
      "Score(mean): 0.8952435454172832 (Std. dev: 0.10652455341258611) with: {'loss': 'lad', 'max_depth': 8, 'n_estimators': 100}\n",
      "Score(mean): 0.9007248156478607 (Std. dev: 0.10128373470457314) with: {'loss': 'lad', 'max_depth': 8, 'n_estimators': 150}\n",
      "Score(mean): 0.9019395111752834 (Std. dev: 0.1011768619005529) with: {'loss': 'lad', 'max_depth': 8, 'n_estimators': 200}\n",
      "Score(mean): 0.9024346199089086 (Std. dev: 0.10155933600716757) with: {'loss': 'lad', 'max_depth': 8, 'n_estimators': 250}\n",
      "Score(mean): 0.9025431411358088 (Std. dev: 0.10160007709193) with: {'loss': 'lad', 'max_depth': 8, 'n_estimators': 300}\n",
      "Score(mean): 0.9025295070619344 (Std. dev: 0.10158468354525027) with: {'loss': 'lad', 'max_depth': 8, 'n_estimators': 350}\n",
      "Score(mean): 0.9025364003931848 (Std. dev: 0.10158595054408347) with: {'loss': 'lad', 'max_depth': 8, 'n_estimators': 400}\n",
      "Score(mean): 0.8711441216672619 (Std. dev: 0.12930166826251482) with: {'loss': 'lad', 'max_depth': 9, 'n_estimators': 50}\n",
      "Score(mean): 0.8853001554531797 (Std. dev: 0.1150911066506357) with: {'loss': 'lad', 'max_depth': 9, 'n_estimators': 100}\n",
      "Score(mean): 0.8920170836019332 (Std. dev: 0.11289516682397262) with: {'loss': 'lad', 'max_depth': 9, 'n_estimators': 150}\n",
      "Score(mean): 0.893420907217522 (Std. dev: 0.1115350825773477) with: {'loss': 'lad', 'max_depth': 9, 'n_estimators': 200}\n",
      "Score(mean): 0.892663999779753 (Std. dev: 0.1108960740074691) with: {'loss': 'lad', 'max_depth': 9, 'n_estimators': 250}\n",
      "Score(mean): 0.8932262476003707 (Std. dev: 0.11099954233568118) with: {'loss': 'lad', 'max_depth': 9, 'n_estimators': 300}\n",
      "Score(mean): 0.8934809732456443 (Std. dev: 0.11105609969506387) with: {'loss': 'lad', 'max_depth': 9, 'n_estimators': 350}\n",
      "Score(mean): 0.8934769893417711 (Std. dev: 0.11105299544423522) with: {'loss': 'lad', 'max_depth': 9, 'n_estimators': 400}\n",
      "Score(mean): 0.8757302591046191 (Std. dev: 0.13266586189979113) with: {'loss': 'lad', 'max_depth': 10, 'n_estimators': 50}\n",
      "Score(mean): 0.8968456622454415 (Std. dev: 0.1101670408565006) with: {'loss': 'lad', 'max_depth': 10, 'n_estimators': 100}\n",
      "Score(mean): 0.8996209187921875 (Std. dev: 0.10806691700033311) with: {'loss': 'lad', 'max_depth': 10, 'n_estimators': 150}\n",
      "Score(mean): 0.8995441650554374 (Std. dev: 0.10714837520559824) with: {'loss': 'lad', 'max_depth': 10, 'n_estimators': 200}\n",
      "Score(mean): 0.9002156191017209 (Std. dev: 0.10643692924997313) with: {'loss': 'lad', 'max_depth': 10, 'n_estimators': 250}\n",
      "Score(mean): 0.9005029642630851 (Std. dev: 0.10616245471402952) with: {'loss': 'lad', 'max_depth': 10, 'n_estimators': 300}\n",
      "Score(mean): 0.9004742875694823 (Std. dev: 0.1057787389186975) with: {'loss': 'lad', 'max_depth': 10, 'n_estimators': 350}\n",
      "Score(mean): 0.9006425581974458 (Std. dev: 0.10560554732215949) with: {'loss': 'lad', 'max_depth': 10, 'n_estimators': 400}\n",
      "Score(mean): 0.8286874915044224 (Std. dev: 0.13464157335789617) with: {'loss': 'huber', 'max_depth': 1, 'n_estimators': 50}\n",
      "Score(mean): 0.863111253529717 (Std. dev: 0.13401577124279265) with: {'loss': 'huber', 'max_depth': 1, 'n_estimators': 100}\n",
      "Score(mean): 0.8779704324208613 (Std. dev: 0.12430158662569109) with: {'loss': 'huber', 'max_depth': 1, 'n_estimators': 150}\n",
      "Score(mean): 0.8844226933256689 (Std. dev: 0.1223190333828928) with: {'loss': 'huber', 'max_depth': 1, 'n_estimators': 200}\n",
      "Score(mean): 0.8885249356511078 (Std. dev: 0.12141469332826521) with: {'loss': 'huber', 'max_depth': 1, 'n_estimators': 250}\n",
      "Score(mean): 0.8913338654271177 (Std. dev: 0.12098129308262495) with: {'loss': 'huber', 'max_depth': 1, 'n_estimators': 300}\n",
      "Score(mean): 0.8933644066649429 (Std. dev: 0.12051030701584836) with: {'loss': 'huber', 'max_depth': 1, 'n_estimators': 350}\n",
      "Score(mean): 0.8950183188930673 (Std. dev: 0.11992413954935555) with: {'loss': 'huber', 'max_depth': 1, 'n_estimators': 400}\n",
      "Score(mean): 0.9175907586206723 (Std. dev: 0.10909462006245428) with: {'loss': 'huber', 'max_depth': 2, 'n_estimators': 50}\n",
      "Score(mean): 0.9296807513530686 (Std. dev: 0.10547746245850147) with: {'loss': 'huber', 'max_depth': 2, 'n_estimators': 100}\n",
      "Score(mean): 0.9320884789822947 (Std. dev: 0.10427848463502933) with: {'loss': 'huber', 'max_depth': 2, 'n_estimators': 150}\n",
      "Score(mean): 0.9325341850007082 (Std. dev: 0.10374576142659346) with: {'loss': 'huber', 'max_depth': 2, 'n_estimators': 200}\n",
      "Score(mean): 0.9328673381383273 (Std. dev: 0.10358686110544722) with: {'loss': 'huber', 'max_depth': 2, 'n_estimators': 250}\n",
      "Score(mean): 0.933016886046395 (Std. dev: 0.10361987575251197) with: {'loss': 'huber', 'max_depth': 2, 'n_estimators': 300}\n",
      "Score(mean): 0.9330168892227284 (Std. dev: 0.10361987255566381) with: {'loss': 'huber', 'max_depth': 2, 'n_estimators': 350}\n",
      "Score(mean): 0.9330168892385899 (Std. dev: 0.10361987254032964) with: {'loss': 'huber', 'max_depth': 2, 'n_estimators': 400}\n",
      "Score(mean): 0.9171569630266511 (Std. dev: 0.09241967493892235) with: {'loss': 'huber', 'max_depth': 3, 'n_estimators': 50}\n",
      "Score(mean): 0.9241863905569856 (Std. dev: 0.09173611525147296) with: {'loss': 'huber', 'max_depth': 3, 'n_estimators': 100}\n",
      "Score(mean): 0.9244391149424194 (Std. dev: 0.0916702562912015) with: {'loss': 'huber', 'max_depth': 3, 'n_estimators': 150}\n",
      "Score(mean): 0.9244395570883575 (Std. dev: 0.09166981960221487) with: {'loss': 'huber', 'max_depth': 3, 'n_estimators': 200}\n",
      "Score(mean): 0.924439559031091 (Std. dev: 0.09166981797806885) with: {'loss': 'huber', 'max_depth': 3, 'n_estimators': 250}\n",
      "Score(mean): 0.9244395590397767 (Std. dev: 0.09166981797258873) with: {'loss': 'huber', 'max_depth': 3, 'n_estimators': 300}\n",
      "Score(mean): 0.9244395590398163 (Std. dev: 0.09166981797257448) with: {'loss': 'huber', 'max_depth': 3, 'n_estimators': 350}\n",
      "Score(mean): 0.9244395590398164 (Std. dev: 0.09166981797257462) with: {'loss': 'huber', 'max_depth': 3, 'n_estimators': 400}\n",
      "Score(mean): 0.9013911570442626 (Std. dev: 0.10458441576782361) with: {'loss': 'huber', 'max_depth': 4, 'n_estimators': 50}\n",
      "Score(mean): 0.9014026811894347 (Std. dev: 0.10448176110391813) with: {'loss': 'huber', 'max_depth': 4, 'n_estimators': 100}\n",
      "Score(mean): 0.9014036237466266 (Std. dev: 0.10447821219778108) with: {'loss': 'huber', 'max_depth': 4, 'n_estimators': 150}\n",
      "Score(mean): 0.901403629630266 (Std. dev: 0.10447819186171887) with: {'loss': 'huber', 'max_depth': 4, 'n_estimators': 200}\n",
      "Score(mean): 0.9014036296651555 (Std. dev: 0.10447819174501942) with: {'loss': 'huber', 'max_depth': 4, 'n_estimators': 250}\n",
      "Score(mean): 0.9014036296653563 (Std. dev: 0.10447819174434919) with: {'loss': 'huber', 'max_depth': 4, 'n_estimators': 300}\n",
      "Score(mean): 0.9014036296653576 (Std. dev: 0.10447819174434543) with: {'loss': 'huber', 'max_depth': 4, 'n_estimators': 350}\n",
      "Score(mean): 0.9014036296653576 (Std. dev: 0.10447819174434543) with: {'loss': 'huber', 'max_depth': 4, 'n_estimators': 400}\n",
      "Score(mean): 0.9047893781244568 (Std. dev: 0.08429498649937865) with: {'loss': 'huber', 'max_depth': 5, 'n_estimators': 50}\n",
      "Score(mean): 0.9076543318328512 (Std. dev: 0.08580029892958539) with: {'loss': 'huber', 'max_depth': 5, 'n_estimators': 100}\n",
      "Score(mean): 0.9076490249211198 (Std. dev: 0.08580080009939677) with: {'loss': 'huber', 'max_depth': 5, 'n_estimators': 150}\n",
      "Score(mean): 0.9076489153702895 (Std. dev: 0.08580075776613014) with: {'loss': 'huber', 'max_depth': 5, 'n_estimators': 200}\n",
      "Score(mean): 0.9076489148884355 (Std. dev: 0.08580075761113151) with: {'loss': 'huber', 'max_depth': 5, 'n_estimators': 250}\n",
      "Score(mean): 0.9076489148862933 (Std. dev: 0.08580075761059332) with: {'loss': 'huber', 'max_depth': 5, 'n_estimators': 300}\n",
      "Score(mean): 0.9076489148862834 (Std. dev: 0.08580075761059171) with: {'loss': 'huber', 'max_depth': 5, 'n_estimators': 350}\n",
      "Score(mean): 0.9076489148862834 (Std. dev: 0.08580075761059168) with: {'loss': 'huber', 'max_depth': 5, 'n_estimators': 400}\n",
      "Score(mean): 0.8996362488536784 (Std. dev: 0.08944405318029053) with: {'loss': 'huber', 'max_depth': 6, 'n_estimators': 50}\n",
      "Score(mean): 0.9019215350703125 (Std. dev: 0.08943407332751112) with: {'loss': 'huber', 'max_depth': 6, 'n_estimators': 100}\n",
      "Score(mean): 0.9019162468273485 (Std. dev: 0.08943222079754598) with: {'loss': 'huber', 'max_depth': 6, 'n_estimators': 150}\n",
      "Score(mean): 0.9019161731186613 (Std. dev: 0.08943220411177812) with: {'loss': 'huber', 'max_depth': 6, 'n_estimators': 200}\n",
      "Score(mean): 0.9019161727652986 (Std. dev: 0.08943220403226708) with: {'loss': 'huber', 'max_depth': 6, 'n_estimators': 250}\n",
      "Score(mean): 0.9019161727635765 (Std. dev: 0.0894322040318936) with: {'loss': 'huber', 'max_depth': 6, 'n_estimators': 300}\n",
      "Score(mean): 0.9019161727635678 (Std. dev: 0.08943220403189199) with: {'loss': 'huber', 'max_depth': 6, 'n_estimators': 350}\n",
      "Score(mean): 0.9019161727635678 (Std. dev: 0.08943220403189199) with: {'loss': 'huber', 'max_depth': 6, 'n_estimators': 400}\n",
      "Score(mean): 0.8992161194049763 (Std. dev: 0.07315656024557574) with: {'loss': 'huber', 'max_depth': 7, 'n_estimators': 50}\n",
      "Score(mean): 0.9017621536725761 (Std. dev: 0.07408005940731194) with: {'loss': 'huber', 'max_depth': 7, 'n_estimators': 100}\n",
      "Score(mean): 0.9017611874956769 (Std. dev: 0.07407762057897532) with: {'loss': 'huber', 'max_depth': 7, 'n_estimators': 150}\n",
      "Score(mean): 0.9017611856568486 (Std. dev: 0.07407761107366202) with: {'loss': 'huber', 'max_depth': 7, 'n_estimators': 200}\n",
      "Score(mean): 0.9017611856585287 (Std. dev: 0.07407761103368148) with: {'loss': 'huber', 'max_depth': 7, 'n_estimators': 250}\n",
      "Score(mean): 0.9017611856585714 (Std. dev: 0.07407761103349025) with: {'loss': 'huber', 'max_depth': 7, 'n_estimators': 300}\n",
      "Score(mean): 0.9017611856585719 (Std. dev: 0.07407761103348931) with: {'loss': 'huber', 'max_depth': 7, 'n_estimators': 350}\n",
      "Score(mean): 0.9017611856585719 (Std. dev: 0.07407761103348931) with: {'loss': 'huber', 'max_depth': 7, 'n_estimators': 400}\n",
      "Score(mean): 0.9020601954697026 (Std. dev: 0.09297898027427665) with: {'loss': 'huber', 'max_depth': 8, 'n_estimators': 50}\n",
      "Score(mean): 0.9025585780726484 (Std. dev: 0.09390898905621284) with: {'loss': 'huber', 'max_depth': 8, 'n_estimators': 100}\n",
      "Score(mean): 0.9025491635093456 (Std. dev: 0.09391450335774065) with: {'loss': 'huber', 'max_depth': 8, 'n_estimators': 150}\n",
      "Score(mean): 0.902549099120033 (Std. dev: 0.0939145359710933) with: {'loss': 'huber', 'max_depth': 8, 'n_estimators': 200}\n",
      "Score(mean): 0.902549098812934 (Std. dev: 0.09391453612817202) with: {'loss': 'huber', 'max_depth': 8, 'n_estimators': 250}\n",
      "Score(mean): 0.9025490988114612 (Std. dev: 0.093914536128918) with: {'loss': 'huber', 'max_depth': 8, 'n_estimators': 300}\n",
      "Score(mean): 0.9025490988114541 (Std. dev: 0.0939145361289215) with: {'loss': 'huber', 'max_depth': 8, 'n_estimators': 350}\n",
      "Score(mean): 0.9025490988114541 (Std. dev: 0.09391453612892148) with: {'loss': 'huber', 'max_depth': 8, 'n_estimators': 400}\n",
      "Score(mean): 0.8991576510060396 (Std. dev: 0.0831047140932968) with: {'loss': 'huber', 'max_depth': 9, 'n_estimators': 50}\n",
      "Score(mean): 0.9007198482767071 (Std. dev: 0.08386243583223064) with: {'loss': 'huber', 'max_depth': 9, 'n_estimators': 100}\n",
      "Score(mean): 0.9007185559977614 (Std. dev: 0.08386174197549419) with: {'loss': 'huber', 'max_depth': 9, 'n_estimators': 150}\n",
      "Score(mean): 0.9007184761938174 (Std. dev: 0.08386167685310424) with: {'loss': 'huber', 'max_depth': 9, 'n_estimators': 200}\n",
      "Score(mean): 0.9007181149246378 (Std. dev: 0.08386137214235115) with: {'loss': 'huber', 'max_depth': 9, 'n_estimators': 250}\n",
      "Score(mean): 0.9007178809848945 (Std. dev: 0.08386117482581978) with: {'loss': 'huber', 'max_depth': 9, 'n_estimators': 300}\n",
      "Score(mean): 0.9007178802951508 (Std. dev: 0.08386117424406354) with: {'loss': 'huber', 'max_depth': 9, 'n_estimators': 350}\n",
      "Score(mean): 0.9007178802931175 (Std. dev: 0.08386117424234865) with: {'loss': 'huber', 'max_depth': 9, 'n_estimators': 400}\n",
      "Score(mean): 0.8916676142554405 (Std. dev: 0.09195428989182802) with: {'loss': 'huber', 'max_depth': 10, 'n_estimators': 50}\n",
      "Score(mean): 0.8935019944497222 (Std. dev: 0.09252834356590808) with: {'loss': 'huber', 'max_depth': 10, 'n_estimators': 100}\n",
      "Score(mean): 0.8935017825075681 (Std. dev: 0.09252815954842682) with: {'loss': 'huber', 'max_depth': 10, 'n_estimators': 150}\n",
      "Score(mean): 0.8935017808389848 (Std. dev: 0.09252815854018291) with: {'loss': 'huber', 'max_depth': 10, 'n_estimators': 200}\n",
      "Score(mean): 0.8935017808267457 (Std. dev: 0.09252815853469294) with: {'loss': 'huber', 'max_depth': 10, 'n_estimators': 250}\n",
      "Score(mean): 0.8935017808266593 (Std. dev: 0.09252815853466317) with: {'loss': 'huber', 'max_depth': 10, 'n_estimators': 300}\n",
      "Score(mean): 0.8935017808266587 (Std. dev: 0.09252815853466312) with: {'loss': 'huber', 'max_depth': 10, 'n_estimators': 350}\n",
      "Score(mean): 0.8935017808266587 (Std. dev: 0.09252815853466312) with: {'loss': 'huber', 'max_depth': 10, 'n_estimators': 400}\n"
     ]
    }
   ],
   "source": [
    "print('Best score: {} using {}'.format(grid_result.best_score_, grid_result.best_params_))\n",
    "for params, mean_score, scores in grid_result.grid_scores_:\n",
    "    print('Score(mean): {} (Std. dev: {}) with: {}'.format(scores.mean(), scores.std(), params))"
   ]
  },
  {
   "cell_type": "code",
   "execution_count": 25,
   "metadata": {},
   "outputs": [
    {
     "data": {
      "text/html": [
       "<div>\n",
       "<style scoped>\n",
       "    .dataframe tbody tr th:only-of-type {\n",
       "        vertical-align: middle;\n",
       "    }\n",
       "\n",
       "    .dataframe tbody tr th {\n",
       "        vertical-align: top;\n",
       "    }\n",
       "\n",
       "    .dataframe thead th {\n",
       "        text-align: right;\n",
       "    }\n",
       "</style>\n",
       "<table border=\"1\" class=\"dataframe\">\n",
       "  <thead>\n",
       "    <tr style=\"text-align: right;\">\n",
       "      <th></th>\n",
       "      <th>Layer</th>\n",
       "      <th>Limit</th>\n",
       "      <th>Retention</th>\n",
       "      <th>100% Prem</th>\n",
       "      <th>Prob. of Act.</th>\n",
       "      <th>Prob. of Exh.</th>\n",
       "      <th>100% Ceded AAL</th>\n",
       "      <th>100% Std. Dev.</th>\n",
       "      <th>Loss on Line</th>\n",
       "    </tr>\n",
       "  </thead>\n",
       "  <tbody>\n",
       "    <tr>\n",
       "      <th>26</th>\n",
       "      <td>1</td>\n",
       "      <td>100000000</td>\n",
       "      <td>100000000</td>\n",
       "      <td>18750000.0</td>\n",
       "      <td>0.2727</td>\n",
       "      <td>0.0993</td>\n",
       "      <td>1.768497e+07</td>\n",
       "      <td>3.773119e+07</td>\n",
       "      <td>0.176800</td>\n",
       "    </tr>\n",
       "    <tr>\n",
       "      <th>32</th>\n",
       "      <td>3</td>\n",
       "      <td>20000000</td>\n",
       "      <td>20000000</td>\n",
       "      <td>758000.0</td>\n",
       "      <td>0.0170</td>\n",
       "      <td>0.0064</td>\n",
       "      <td>2.052800e+05</td>\n",
       "      <td>1.857387e+06</td>\n",
       "      <td>0.010300</td>\n",
       "    </tr>\n",
       "    <tr>\n",
       "      <th>33</th>\n",
       "      <td>1</td>\n",
       "      <td>11000000</td>\n",
       "      <td>4000000</td>\n",
       "      <td>1182500.0</td>\n",
       "      <td>0.1359</td>\n",
       "      <td>0.0499</td>\n",
       "      <td>8.699650e+05</td>\n",
       "      <td>2.801299e+06</td>\n",
       "      <td>0.079100</td>\n",
       "    </tr>\n",
       "    <tr>\n",
       "      <th>54</th>\n",
       "      <td>3</td>\n",
       "      <td>100000000</td>\n",
       "      <td>300000000</td>\n",
       "      <td>5700000.0</td>\n",
       "      <td>0.0366</td>\n",
       "      <td>0.0202</td>\n",
       "      <td>2.844761e+06</td>\n",
       "      <td>1.644076e+07</td>\n",
       "      <td>0.028400</td>\n",
       "    </tr>\n",
       "    <tr>\n",
       "      <th>71</th>\n",
       "      <td>3</td>\n",
       "      <td>20000000</td>\n",
       "      <td>30000000</td>\n",
       "      <td>750000.0</td>\n",
       "      <td>0.0174</td>\n",
       "      <td>0.0068</td>\n",
       "      <td>2.160558e+05</td>\n",
       "      <td>1.906872e+06</td>\n",
       "      <td>0.010803</td>\n",
       "    </tr>\n",
       "  </tbody>\n",
       "</table>\n",
       "</div>"
      ],
      "text/plain": [
       "    Layer      Limit  Retention   100% Prem  Prob. of Act.  Prob. of Exh.  \\\n",
       "26      1  100000000  100000000  18750000.0         0.2727         0.0993   \n",
       "32      3   20000000   20000000    758000.0         0.0170         0.0064   \n",
       "33      1   11000000    4000000   1182500.0         0.1359         0.0499   \n",
       "54      3  100000000  300000000   5700000.0         0.0366         0.0202   \n",
       "71      3   20000000   30000000    750000.0         0.0174         0.0068   \n",
       "\n",
       "    100% Ceded AAL  100% Std. Dev.  Loss on Line  \n",
       "26    1.768497e+07    3.773119e+07      0.176800  \n",
       "32    2.052800e+05    1.857387e+06      0.010300  \n",
       "33    8.699650e+05    2.801299e+06      0.079100  \n",
       "54    2.844761e+06    1.644076e+07      0.028400  \n",
       "71    2.160558e+05    1.906872e+06      0.010803  "
      ]
     },
     "execution_count": 25,
     "metadata": {},
     "output_type": "execute_result"
    }
   ],
   "source": [
    "x_train.head(5)"
   ]
  },
  {
   "cell_type": "code",
   "execution_count": 32,
   "metadata": {},
   "outputs": [
    {
     "data": {
      "text/plain": [
       "array([6.72856051e-09, 1.05797461e-07, 8.24779306e-08, 9.47212088e-09,\n",
       "       8.30695021e-08, 6.76451539e-08, 4.32540694e-08, 8.36042515e-08,\n",
       "       9.33427244e-08, 9.46922479e-09, 8.92772529e-09, 1.40436466e-07,\n",
       "       2.72857398e-08, 6.77997902e-09, 8.87127065e-09, 3.87901090e-08,\n",
       "       9.33028493e-08, 8.92527985e-09, 7.03062695e-08, 3.37432126e-08,\n",
       "       2.09814565e-07, 6.32851047e-08, 1.34171507e-07, 9.33114793e-08,\n",
       "       2.72188726e-08, 7.03239450e-08, 9.33521899e-08, 3.51456439e-08,\n",
       "       4.52912369e-08, 8.88964984e-09, 2.09866728e-07, 5.50260206e-08,\n",
       "       1.40274422e-07, 8.25876036e-08, 6.75894474e-08, 1.05714148e-07,\n",
       "       4.22265114e-08, 8.93071338e-09, 8.91656170e-08, 6.69940103e-09,\n",
       "       5.28498277e-08, 8.25272598e-08, 2.63031143e-07, 2.34993826e-08,\n",
       "       8.30527464e-08, 9.33674793e-08, 2.72649184e-08, 7.84377024e-08,\n",
       "       4.23882296e-08, 7.84346868e-08, 5.61200057e-08, 2.74698474e-07,\n",
       "       7.03050801e-08, 1.10547689e-07, 4.70011029e-08, 5.23179860e-08])"
      ]
     },
     "execution_count": 32,
     "metadata": {},
     "output_type": "execute_result"
    }
   ],
   "source": [
    "normalizedX[:,0]"
   ]
  },
  {
   "cell_type": "code",
   "execution_count": 34,
   "metadata": {},
   "outputs": [],
   "source": [
    "import math"
   ]
  },
  {
   "cell_type": "code",
   "execution_count": 40,
   "metadata": {},
   "outputs": [
    {
     "data": {
      "text/plain": [
       "array([4.52735266e-17, 1.11931028e-14, 6.80260903e-15, 8.97210741e-17,\n",
       "       6.90054218e-15, 4.57586685e-15, 1.87091452e-15, 6.98967087e-15,\n",
       "       8.71286420e-15, 8.96662182e-17, 7.97042788e-17, 1.97224011e-14,\n",
       "       7.44511599e-16, 4.59681155e-17, 7.86994430e-17, 1.50467256e-15,\n",
       "       8.70542169e-15, 7.96606205e-17, 4.94297153e-15, 1.13860440e-15,\n",
       "       4.40221517e-14, 4.00500448e-15, 1.80019933e-14, 8.70703217e-15,\n",
       "       7.40867028e-16, 4.94545724e-15, 8.71463136e-15, 1.23521629e-15,\n",
       "       2.05129614e-15, 7.90258743e-17, 4.40440435e-14, 3.02786294e-15,\n",
       "       1.96769135e-14, 6.82071226e-15, 4.56833340e-15, 1.11754811e-14,\n",
       "       1.78307826e-15, 7.97576415e-17, 7.95050725e-15, 4.48819742e-17,\n",
       "       2.79310428e-15, 6.81074861e-15, 6.91853824e-14, 5.52220984e-16,\n",
       "       6.89775869e-15, 8.71748618e-15, 7.43375776e-16, 6.15247316e-15,\n",
       "       1.79676201e-15, 6.15200010e-15, 3.14945504e-15, 7.54592516e-14,\n",
       "       4.94280429e-15, 1.22207914e-14, 2.20910367e-15, 2.73717166e-15])"
      ]
     },
     "execution_count": 40,
     "metadata": {},
     "output_type": "execute_result"
    }
   ],
   "source": [
    "np.square(normalizedX[:,0])"
   ]
  },
  {
   "cell_type": "code",
   "execution_count": 43,
   "metadata": {},
   "outputs": [
    {
     "data": {
      "text/plain": [
       "1.0"
      ]
     },
     "execution_count": 43,
     "metadata": {},
     "output_type": "execute_result"
    }
   ],
   "source": [
    "sum(np.square(normalizedX[1]))"
   ]
  },
  {
   "cell_type": "code",
   "execution_count": 44,
   "metadata": {},
   "outputs": [
    {
     "data": {
      "text/plain": [
       "GradientBoostingRegressor(alpha=0.9, criterion='friedman_mse', init=None,\n",
       "             learning_rate=0.1, loss='ls', max_depth=3, max_features=None,\n",
       "             max_leaf_nodes=None, min_impurity_decrease=0.0,\n",
       "             min_impurity_split=None, min_samples_leaf=1,\n",
       "             min_samples_split=2, min_weight_fraction_leaf=0.0,\n",
       "             n_estimators=100, presort='auto', random_state=7,\n",
       "             subsample=1.0, verbose=0, warm_start=False)"
      ]
     },
     "execution_count": 44,
     "metadata": {},
     "output_type": "execute_result"
    }
   ],
   "source": [
    "grid_result.estimator"
   ]
  },
  {
   "cell_type": "code",
   "execution_count": 47,
   "metadata": {},
   "outputs": [
    {
     "data": {
      "text/plain": [
       "GradientBoostingRegressor(alpha=0.9, criterion='friedman_mse', init=None,\n",
       "             learning_rate=0.1, loss='ls', max_depth=3, max_features=None,\n",
       "             max_leaf_nodes=None, min_impurity_decrease=0.0,\n",
       "             min_impurity_split=None, min_samples_leaf=1,\n",
       "             min_samples_split=2, min_weight_fraction_leaf=0.0,\n",
       "             n_estimators=50, presort='auto', random_state=7,\n",
       "             subsample=1.0, verbose=0, warm_start=False)"
      ]
     },
     "execution_count": 47,
     "metadata": {},
     "output_type": "execute_result"
    }
   ],
   "source": [
    "model1 = GradientBoostingRegressor(random_state=seed, n_estimators=50)\n",
    "model1.fit(normalizedX, y_train)"
   ]
  },
  {
   "cell_type": "code",
   "execution_count": 48,
   "metadata": {},
   "outputs": [
    {
     "data": {
      "text/plain": [
       "array([3.49444875e-05, 1.07509587e-01, 8.11870729e-02, 6.30492185e-01,\n",
       "       0.00000000e+00, 0.00000000e+00, 1.59791887e-01, 2.09843229e-02,\n",
       "       0.00000000e+00])"
      ]
     },
     "execution_count": 48,
     "metadata": {},
     "output_type": "execute_result"
    }
   ],
   "source": [
    "model1.feature_importances_"
   ]
  },
  {
   "cell_type": "code",
   "execution_count": 72,
   "metadata": {},
   "outputs": [
    {
     "data": {
      "text/plain": [
       "GradientBoostingRegressor(alpha=0.9, criterion='friedman_mse', init=None,\n",
       "             learning_rate=0.1, loss='ls', max_depth=3, max_features=None,\n",
       "             max_leaf_nodes=None, min_impurity_decrease=0.0,\n",
       "             min_impurity_split=None, min_samples_leaf=1,\n",
       "             min_samples_split=2, min_weight_fraction_leaf=0.0,\n",
       "             n_estimators=50, presort='auto', random_state=12,\n",
       "             subsample=1.0, verbose=0, warm_start=False)"
      ]
     },
     "execution_count": 72,
     "metadata": {},
     "output_type": "execute_result"
    }
   ],
   "source": [
    "model4 = GradientBoostingRegressor(random_state=seed, n_estimators=50)\n",
    "model4.fit(normalizedX, y_train)"
   ]
  },
  {
   "cell_type": "code",
   "execution_count": 76,
   "metadata": {},
   "outputs": [],
   "source": [
    "tree = model4.estimators_[0, 0].tree_\n",
    "leaf_mask = tree.children_left == -1\n",
    "w_i = tree.value[leaf_mask, 0, 0]"
   ]
  },
  {
   "cell_type": "code",
   "execution_count": 77,
   "metadata": {},
   "outputs": [
    {
     "data": {
      "text/plain": [
       "array([-0.07839893, -0.06145893, -0.03159393,  0.01394464,  0.08158274,\n",
       "        0.16341607,  0.19508274,  0.15571607])"
      ]
     },
     "execution_count": 77,
     "metadata": {},
     "output_type": "execute_result"
    }
   ],
   "source": [
    "w_i"
   ]
  },
  {
   "cell_type": "code",
   "execution_count": 80,
   "metadata": {},
   "outputs": [
    {
     "data": {
      "text/plain": [
       "array([2.37860208e-04, 7.53837506e-02, 8.93663347e-02, 5.84431980e-01,\n",
       "       0.00000000e+00, 0.00000000e+00, 2.41774224e-01, 8.80585026e-03,\n",
       "       0.00000000e+00])"
      ]
     },
     "execution_count": 80,
     "metadata": {},
     "output_type": "execute_result"
    }
   ],
   "source": [
    "model4.feature_importances_"
   ]
  }
 ],
 "metadata": {
  "kernelspec": {
   "display_name": "Python 3",
   "language": "python",
   "name": "python3"
  },
  "language_info": {
   "codemirror_mode": {
    "name": "ipython",
    "version": 3
   },
   "file_extension": ".py",
   "mimetype": "text/x-python",
   "name": "python",
   "nbconvert_exporter": "python",
   "pygments_lexer": "ipython3",
   "version": "3.6.4"
  }
 },
 "nbformat": 4,
 "nbformat_minor": 2
}
